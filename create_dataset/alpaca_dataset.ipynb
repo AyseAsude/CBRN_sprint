{
 "cells": [
  {
   "cell_type": "code",
   "execution_count": null,
   "id": "9a22e687",
   "metadata": {},
   "outputs": [],
   "source": [
    "import pandas as pd\n",
    "import numpy as np\n",
    "from datasets import load_dataset"
   ]
  },
  {
   "cell_type": "code",
   "execution_count": null,
   "id": "2af86458",
   "metadata": {},
   "outputs": [],
   "source": [
    "alpaca_df = load_dataset(\"tatsu-lab/alpaca\", split=\"train\").to_pandas()"
   ]
  },
  {
   "cell_type": "code",
   "execution_count": null,
   "id": "76fb7294",
   "metadata": {},
   "outputs": [],
   "source": [
    "sample_df = alpaca_df.sample(n=1858, random_state=42)"
   ]
  },
  {
   "cell_type": "code",
   "execution_count": null,
   "id": "4730d90d",
   "metadata": {},
   "outputs": [],
   "source": [
    "sample_df['instruction'] = np.where(\n",
    "    sample_df['input'].fillna('').str.strip() != '',  # If input is not empty\n",
    "    sample_df['instruction'] + '\\n' + sample_df['input'],       # Append with newline\n",
    "    sample_df['instruction']                             # Keep original question\n",
    ")"
   ]
  },
  {
   "cell_type": "code",
   "execution_count": null,
   "id": "1766503d",
   "metadata": {},
   "outputs": [],
   "source": [
    "sample_df = sample_df.drop(columns=['text', 'input'])"
   ]
  },
  {
   "cell_type": "code",
   "execution_count": null,
   "id": "7591cce7",
   "metadata": {},
   "outputs": [],
   "source": [
    "sample_df_train = sample_df.sample(n=1358, random_state=42)\n",
    "remaining_df = sample_df.drop(sample_df_train.index)"
   ]
  },
  {
   "cell_type": "code",
   "execution_count": null,
   "id": "05e0c741",
   "metadata": {},
   "outputs": [],
   "source": [
    "sample_df_train.to_json(\"alpaca_benign_train.json\", orient=\"records\", indent=2)\n",
    "remaining_df.to_json(\"alpaca_benign_test.json\", orient=\"records\", indent=2)"
   ]
  },
  {
   "cell_type": "code",
   "execution_count": null,
   "id": "458c97b8",
   "metadata": {},
   "outputs": [],
   "source": [
    "print(\"ALL SAMPLES:\")\n",
    "print(f\"  Benign train: {len(sample_df_train)} rows\")\n",
    "print(f\"  Benign test: {len(remaining_df)} rows\")\n"
   ]
  },
  {
   "cell_type": "code",
   "execution_count": null,
   "id": "9ada0b2e",
   "metadata": {},
   "outputs": [],
   "source": []
  }
 ],
 "metadata": {
  "kernelspec": {
   "display_name": "ai",
   "language": "python",
   "name": "python3"
  },
  "language_info": {
   "codemirror_mode": {
    "name": "ipython",
    "version": 3
   },
   "file_extension": ".py",
   "mimetype": "text/x-python",
   "name": "python",
   "nbconvert_exporter": "python",
   "pygments_lexer": "ipython3",
   "version": "3.12.2"
  }
 },
 "nbformat": 4,
 "nbformat_minor": 5
}
