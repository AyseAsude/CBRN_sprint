{
 "cells": [
  {
   "cell_type": "code",
   "execution_count": null,
   "id": "79e7e023",
   "metadata": {},
   "outputs": [],
   "source": [
    "import pandas as pd\n",
    "import numpy as np\n",
    "from datasets import load_dataset\n",
    "from huggingface_hub import notebook_login\n",
    "import os"
   ]
  },
  {
   "cell_type": "code",
   "execution_count": null,
   "id": "979601e6",
   "metadata": {},
   "outputs": [],
   "source": [
    "hf_token = os.getenv('HF_TOKEN')\n",
    "notebook_login()"
   ]
  },
  {
   "cell_type": "code",
   "execution_count": null,
   "id": "dcfe31e1",
   "metadata": {},
   "outputs": [],
   "source": [
    "clearharm_df = load_dataset(\"AlignmentResearch/ClearHarm\", \"rep40\", split=\"train\").to_pandas()"
   ]
  },
  {
   "cell_type": "code",
   "execution_count": null,
   "id": "37e951e4",
   "metadata": {},
   "outputs": [],
   "source": [
    "# Extract string from array and rename column\n",
    "clearharm_df.loc[:, 'instruction'] = clearharm_df['content'].apply(lambda x: x[0] if isinstance(x, np.ndarray) else x)\n",
    "clearharm_df = clearharm_df.drop('content', axis=1)\n",
    "\n",
    "print(f\"Shape: {clearharm_df.shape}\")"
   ]
  },
  {
   "cell_type": "code",
   "execution_count": null,
   "id": "182e6da8",
   "metadata": {},
   "outputs": [],
   "source": [
    "# Sample 500 instructions randomly with fixed seed for test set\n",
    "import random\n",
    "import json\n",
    "\n",
    "random.seed(42)\n",
    "sample_size = 500\n",
    "\n",
    "clearharm_data = clearharm_df[['instruction']].to_dict('records')\n",
    "\n",
    "\n",
    "# Sample from the already processed data\n",
    "if len(clearharm_data) > sample_size:\n",
    "    clearharm_test_data = random.sample(clearharm_data, sample_size)\n",
    "    print(f\"Sampled {sample_size} from {len(clearharm_data)} total instructions\")\n",
    "else:\n",
    "    clearharm_test_data = clearharm_data\n",
    "    print(f\"Using all {len(clearharm_data)} instructions (less than {sample_size})\")\n",
    "\n",
    "# Save test set\n",
    "test_output_path = '../datasets/clearharm_harmful_test_500.json'\n",
    "with open(test_output_path, 'w') as f:\n",
    "    json.dump(clearharm_test_data, f, indent=2)\n",
    "\n",
    "print(f\"Saved {len(clearharm_test_data)} harmful test instructions to {test_output_path}\")"
   ]
  }
 ],
 "metadata": {
  "kernelspec": {
   "display_name": "ai",
   "language": "python",
   "name": "python3"
  },
  "language_info": {
   "codemirror_mode": {
    "name": "ipython",
    "version": 3
   },
   "file_extension": ".py",
   "mimetype": "text/x-python",
   "name": "python",
   "nbconvert_exporter": "python",
   "pygments_lexer": "ipython3",
   "version": "3.12.2"
  }
 },
 "nbformat": 4,
 "nbformat_minor": 5
}
