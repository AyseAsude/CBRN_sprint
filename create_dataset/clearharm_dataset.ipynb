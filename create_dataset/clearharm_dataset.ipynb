{
 "cells": [
  {
   "cell_type": "code",
   "execution_count": null,
   "id": "79e7e023",
   "metadata": {},
   "outputs": [],
   "source": [
    "import pandas as pd\n",
    "import numpy as np\n",
    "from datasets import load_dataset\n",
    "from huggingface_hub import notebook_login\n",
    "import os"
   ]
  },
  {
   "cell_type": "code",
   "execution_count": null,
   "id": "979601e6",
   "metadata": {},
   "outputs": [],
   "source": [
    "hf_token = os.getenv('HF_TOKEN')\n",
    "notebook_login()"
   ]
  },
  {
   "cell_type": "code",
   "execution_count": null,
   "id": "dcfe31e1",
   "metadata": {},
   "outputs": [],
   "source": [
    "clearharm_df = load_dataset(\"AlignmentResearch/ClearHarm\", \"rep40\", split=\"train\").to_pandas()"
   ]
  },
  {
   "cell_type": "code",
   "execution_count": null,
   "id": "70e667bb",
   "metadata": {},
   "outputs": [],
   "source": [
    "clearharm_df"
   ]
  },
  {
   "cell_type": "code",
   "execution_count": null,
   "id": "37e951e4",
   "metadata": {},
   "outputs": [],
   "source": []
  }
 ],
 "metadata": {
  "kernelspec": {
   "display_name": "ai",
   "language": "python",
   "name": "python3"
  },
  "language_info": {
   "codemirror_mode": {
    "name": "ipython",
    "version": 3
   },
   "file_extension": ".py",
   "mimetype": "text/x-python",
   "name": "python",
   "nbconvert_exporter": "python",
   "pygments_lexer": "ipython3",
   "version": "3.12.2"
  }
 },
 "nbformat": 4,
 "nbformat_minor": 5
}
