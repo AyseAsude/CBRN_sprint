{
 "cells": [
  {
   "cell_type": "code",
   "execution_count": null,
   "id": "8da66bc2",
   "metadata": {},
   "outputs": [],
   "source": [
    "import pandas as pd\n",
    "import numpy as np\n",
    "from datasets import load_dataset\n",
    "from huggingface_hub import notebook_login\n",
    "import os"
   ]
  },
  {
   "cell_type": "code",
   "execution_count": null,
   "id": "b3958864",
   "metadata": {},
   "outputs": [],
   "source": [
    "hf_token = os.getenv('HF_TOKEN')\n",
    "notebook_login()"
   ]
  },
  {
   "cell_type": "code",
   "execution_count": null,
   "id": "c7cc926c",
   "metadata": {},
   "outputs": [],
   "source": [
    "sorry_bench_df = load_dataset(\"sorry-bench/sorry-bench-202503\")['train'].to_pandas()\n",
    "sorry_bench_human_train = load_dataset(\"sorry-bench/sorry-bench-human-judgment-202503\", split=\"train\").to_pandas()\n",
    "sorry_bench_human_test = load_dataset(\"sorry-bench/sorry-bench-human-judgment-202503\", split=\"test\").to_pandas()"
   ]
  },
  {
   "cell_type": "code",
   "execution_count": null,
   "id": "8d062aaa",
   "metadata": {},
   "outputs": [],
   "source": [
    "sorry_bench_df"
   ]
  },
  {
   "cell_type": "code",
   "execution_count": null,
   "id": "d1b36c34",
   "metadata": {},
   "outputs": [],
   "source": [
    "def filter_responses_by_score(df, score):\n",
    "    \"\"\"Filter responses by human score.\"\"\"\n",
    "    return df.query(f\"human_score == {score}\").copy()\n",
    "\n",
    "def process_dataset(responses_df, sorry_bench_df):\n",
    "    \"\"\"Process a dataset by merging, cleaning, and extracting data.\"\"\"\n",
    "    # Merge with main dataset\n",
    "    processed_df = responses_df.merge(\n",
    "        sorry_bench_df[['question_id', 'prompt_style', 'turns']], \n",
    "        on=['question_id', 'prompt_style'], \n",
    "        how='left'\n",
    "    )\n",
    "    \n",
    "    # Drop duplicates to avoid repeated questions\n",
    "    processed_df = processed_df.drop_duplicates(subset=['question_id', 'prompt_style'], keep='first')\n",
    "    \n",
    "    # Remove unnecessary columns\n",
    "    processed_df = processed_df.drop(columns=['tstamp', 'human_score'])\n",
    "    \n",
    "    # Remove translation prompts\n",
    "    values_to_remove = ['translate-ta', 'translate-fr', 'translate-mr', 'translate-zh-cn', 'translate-ml']\n",
    "    processed_df = processed_df[~processed_df['prompt_style'].isin(values_to_remove)]\n",
    "    \n",
    "    # Extract LLM answer\n",
    "    def extract_string(cell_value):\n",
    "        try:\n",
    "            return cell_value[0]['turns'][0]\n",
    "        except (TypeError, IndexError, KeyError):\n",
    "            return None\n",
    "    \n",
    "    processed_df.loc[:, 'llm_answer'] = processed_df['choices'].apply(extract_string)\n",
    "    \n",
    "    # Extract question\n",
    "    processed_df.loc[:, 'question'] = processed_df['turns'].apply(lambda x: x[0] if len(x) > 0 else '')\n",
    "    \n",
    "    # Clean up columns\n",
    "    processed_df = processed_df.drop(columns=['turns', 'choices'])\n",
    "    \n",
    "    return processed_df"
   ]
  },
  {
   "cell_type": "code",
   "execution_count": null,
   "id": "3766615d",
   "metadata": {},
   "outputs": [],
   "source": [
    "sorry_bench_human_train = sorry_bench_human_train[sorry_bench_human_train['prompt_style'] == 'base']\n",
    "sorry_bench_human_test = sorry_bench_human_test[sorry_bench_human_test['prompt_style'] == 'base']\n",
    "sorry_bench_df = sorry_bench_df[sorry_bench_df['prompt_style'] == 'base']\n",
    "print(len(sorry_bench_human_train))\n",
    "print(len(sorry_bench_human_test))\n",
    "print(len(sorry_bench_df))"
   ]
  },
  {
   "cell_type": "code",
   "execution_count": null,
   "id": "6db880dc",
   "metadata": {},
   "outputs": [],
   "source": [
    "harmful_responses_train = filter_responses_by_score(sorry_bench_human_train, 1.0)\n",
    "refusal_responses_train = filter_responses_by_score(sorry_bench_human_train, 0.0)\n",
    "\n",
    "harmful_responses_test = filter_responses_by_score(sorry_bench_human_test, 1.0)\n",
    "refusal_responses_test = filter_responses_by_score(sorry_bench_human_test, 0.0)\n",
    "\n",
    "print(len(harmful_responses_train))\n",
    "print(len(refusal_responses_train))\n",
    "\n",
    "print(len(harmful_responses_test))\n",
    "print(len(refusal_responses_test))"
   ]
  },
  {
   "cell_type": "code",
   "execution_count": null,
   "id": "41f3bd9e",
   "metadata": {},
   "outputs": [],
   "source": [
    "def drop_multiple_question_ids(df, random_state=42):\n",
    "\n",
    "    df_copy = df.copy()\n",
    "    \n",
    "    df_shuffled = df_copy.sample(frac=1, random_state=random_state).reset_index(drop=True)\n",
    "    \n",
    "    df_unique = df_shuffled.drop_duplicates(subset='question_id', keep='first').reset_index(drop=True)\n",
    "    \n",
    "    return df_unique"
   ]
  },
  {
   "cell_type": "code",
   "execution_count": null,
   "id": "125321f2",
   "metadata": {},
   "outputs": [],
   "source": [
    "harmful_responses_train = drop_multiple_question_ids(harmful_responses_train)\n",
    "refusal_responses_train = drop_multiple_question_ids(refusal_responses_train)\n",
    "\n",
    "harmful_responses_test = drop_multiple_question_ids(harmful_responses_test)\n",
    "refusal_responses_test = drop_multiple_question_ids(refusal_responses_test)"
   ]
  },
  {
   "cell_type": "code",
   "execution_count": null,
   "id": "fd10461b",
   "metadata": {},
   "outputs": [],
   "source": [
    "print(len(harmful_responses_train))\n",
    "print(len(refusal_responses_train))\n",
    "\n",
    "print(len(harmful_responses_test))\n",
    "print(len(refusal_responses_test))"
   ]
  },
  {
   "cell_type": "code",
   "execution_count": null,
   "id": "2d6dbc34",
   "metadata": {},
   "outputs": [],
   "source": [
    "harmful_responses_train = process_dataset(harmful_responses_train, sorry_bench_df)\n",
    "refusal_responses_train = process_dataset(refusal_responses_train, sorry_bench_df)\n",
    "\n",
    "harmful_responses_test = process_dataset(harmful_responses_test, sorry_bench_df)\n",
    "refusal_responses_test = process_dataset(refusal_responses_test, sorry_bench_df)\n"
   ]
  },
  {
   "cell_type": "code",
   "execution_count": null,
   "id": "15ef4149",
   "metadata": {},
   "outputs": [],
   "source": [
    "harmful_responses_train.rename(columns={'llm_answer': 'output', 'question': 'instruction'}, inplace=True)\n",
    "refusal_responses_train.rename(columns={'llm_answer': 'output', 'question': 'instruction'}, inplace=True)\n",
    "harmful_responses_test.rename(columns={'llm_answer': 'output', 'question': 'instruction'}, inplace=True)\n",
    "refusal_responses_test.rename(columns={'llm_answer': 'output', 'question': 'instruction'}, inplace=True)"
   ]
  },
  {
   "cell_type": "code",
   "execution_count": null,
   "id": "541b19e1",
   "metadata": {},
   "outputs": [],
   "source": [
    "print(len(harmful_responses_train))\n",
    "print(len(refusal_responses_train))\n",
    "\n",
    "print(len(harmful_responses_test))\n",
    "print(len(refusal_responses_test))"
   ]
  },
  {
   "cell_type": "code",
   "execution_count": null,
   "id": "545ef0cf",
   "metadata": {},
   "outputs": [],
   "source": [
    "\n",
    "# Balance by downsampling\n",
    "refusal_train_balanced = refusal_responses_train.sample(n=len(harmful_responses_train), random_state=42)\n",
    "refusal_test_balanced = refusal_responses_test.sample(n=len(harmful_responses_test), random_state=42)\n",
    "output_dir = \"../datasets\"\n",
    "# Save each as separate JSON\n",
    "harmful_responses_train.to_json(f\"{output_dir}/harmful_train.json\", orient='records', indent=2)\n",
    "refusal_train_balanced.to_json(f\"{output_dir}/refusal_train.json\", orient='records', indent=2)\n",
    "harmful_responses_test.to_json(f\"{output_dir}/harmful_test.json\", orient='records', indent=2)\n",
    "refusal_test_balanced.to_json(f\"{output_dir}/refusal_test.json\", orient='records', indent=2)\n",
    "\n",
    "print(\"Saved separate balanced datasets:\")\n",
    "print(f\"Training: {len(harmful_responses_train)} harmful, {len(refusal_train_balanced)} refusal\")\n",
    "print(f\"Test: {len(harmful_responses_test)} harmful, {len(refusal_test_balanced)} refusal\")"
   ]
  }
 ],
 "metadata": {
  "kernelspec": {
   "display_name": "ai",
   "language": "python",
   "name": "python3"
  },
  "language_info": {
   "codemirror_mode": {
    "name": "ipython",
    "version": 3
   },
   "file_extension": ".py",
   "mimetype": "text/x-python",
   "name": "python",
   "nbconvert_exporter": "python",
   "pygments_lexer": "ipython3",
   "version": "3.12.2"
  }
 },
 "nbformat": 4,
 "nbformat_minor": 5
}
