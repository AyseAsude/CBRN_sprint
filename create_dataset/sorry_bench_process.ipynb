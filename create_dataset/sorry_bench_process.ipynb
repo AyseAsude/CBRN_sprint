{
 "cells": [
  {
   "cell_type": "code",
   "execution_count": null,
   "id": "8da66bc2",
   "metadata": {},
   "outputs": [],
   "source": [
    "import pandas as pd\n",
    "import numpy as np\n",
    "from datasets import load_dataset\n",
    "from huggingface_hub import notebook_login\n",
    "import os"
   ]
  },
  {
   "cell_type": "code",
   "execution_count": null,
   "id": "b3958864",
   "metadata": {},
   "outputs": [],
   "source": [
    "hf_token = os.getenv('HF_TOKEN')\n",
    "notebook_login()"
   ]
  },
  {
   "cell_type": "code",
   "execution_count": null,
   "id": "c7cc926c",
   "metadata": {},
   "outputs": [],
   "source": [
    "sorry_bench_df = load_dataset(\"sorry-bench/sorry-bench-202503\")['train'].to_pandas()\n",
    "sorry_bench_human_train = load_dataset(\"sorry-bench/sorry-bench-human-judgment-202503\", split=\"train\").to_pandas()\n",
    "sorry_bench_human_test = load_dataset(\"sorry-bench/sorry-bench-human-judgment-202503\", split=\"test\").to_pandas()"
   ]
  },
  {
   "cell_type": "code",
   "execution_count": null,
   "id": "d1b36c34",
   "metadata": {},
   "outputs": [],
   "source": [
    "def filter_responses_by_score(df, score):\n",
    "    \"\"\"Filter responses by human score.\"\"\"\n",
    "    return df.query(f\"human_score == {score}\").copy()\n",
    "\n",
    "def process_dataset(responses_df, sorry_bench_df):\n",
    "    \"\"\"Process a dataset by merging, cleaning, and extracting data.\"\"\"\n",
    "    # Merge with main dataset\n",
    "    processed_df = responses_df.merge(\n",
    "        sorry_bench_df[['question_id', 'prompt_style', 'turns']], \n",
    "        on=['question_id', 'prompt_style'], \n",
    "        how='left'\n",
    "    )\n",
    "    \n",
    "    # Remove unnecessary columns\n",
    "    processed_df = processed_df.drop(columns=['tstamp', 'human_score'])\n",
    "    \n",
    "    # Remove translation prompts\n",
    "    values_to_remove = ['translate-ta', 'translate-fr', 'translate-mr', 'translate-zh-cn', 'translate-ml']\n",
    "    processed_df = processed_df[~processed_df['prompt_style'].isin(values_to_remove)]\n",
    "    \n",
    "    # Extract LLM answer\n",
    "    def extract_string(cell_value):\n",
    "        try:\n",
    "            return cell_value[0]['turns'][0]\n",
    "        except (TypeError, IndexError, KeyError):\n",
    "            return None\n",
    "    \n",
    "    processed_df.loc[:, 'llm_answer'] = processed_df['choices'].apply(extract_string)\n",
    "    \n",
    "    # Extract question\n",
    "    processed_df.loc[:, 'question'] = processed_df['turns'].apply(lambda x: x[0] if len(x) > 0 else '')\n",
    "    \n",
    "    # Clean up columns\n",
    "    processed_df = processed_df.drop(columns=['turns', 'choices'])\n",
    "    \n",
    "    return processed_df\n"
   ]
  },
  {
   "cell_type": "code",
   "execution_count": null,
   "id": "zykgf6r4vwm",
   "metadata": {},
   "outputs": [],
   "source": [
    "harmful_responses = filter_responses_by_score(sorry_bench_human_train, 1.0)\n",
    "refusal_responses = filter_responses_by_score(sorry_bench_human_train, 0.0)\n",
    "\n",
    "harmful_df = process_dataset(harmful_responses, sorry_bench_df)\n",
    "refusal_df = process_dataset(refusal_responses, sorry_bench_df)\n",
    "\n",
    "# Process test dataset\n",
    "harmful_test_responses = filter_responses_by_score(sorry_bench_human_test, 1.0)\n",
    "refusal_test_responses = filter_responses_by_score(sorry_bench_human_test, 0.0)\n",
    "\n",
    "harmful_test_df = process_dataset(harmful_test_responses, sorry_bench_df)\n",
    "refusal_test_df = process_dataset(refusal_test_responses, sorry_bench_df)\n"
   ]
  },
  {
   "cell_type": "code",
   "execution_count": null,
   "id": "366b8330",
   "metadata": {},
   "outputs": [],
   "source": [
    "# Display results for train dataset\n",
    "print(\"=== TRAIN DATASET ===\")\n",
    "print(\"Harmful responses:\")\n",
    "print(harmful_df.head())\n",
    "print(f\"\\nTotal harmful responses: {len(harmful_df)}\")\n",
    "\n",
    "print(\"\\nRefusal responses:\")\n",
    "print(refusal_df.head())\n",
    "print(f\"\\nTotal refusal responses: {len(refusal_df)}\")\n",
    "\n",
    "# Display results for test dataset\n",
    "print(\"\\n=== TEST DATASET ===\")\n",
    "print(\"Harmful responses:\")\n",
    "print(harmful_test_df.head())\n",
    "print(f\"\\nTotal harmful responses: {len(harmful_test_df)}\")\n",
    "\n",
    "print(\"\\nRefusal responses:\")\n",
    "print(refusal_test_df.head())\n",
    "print(f\"\\nTotal refusal responses: {len(refusal_test_df)}\")"
   ]
  },
  {
   "cell_type": "code",
   "execution_count": null,
   "id": "b4ec6cc8",
   "metadata": {},
   "outputs": [],
   "source": [
    "harmful_df.columns"
   ]
  },
  {
   "cell_type": "code",
   "execution_count": null,
   "id": "15ef4149",
   "metadata": {},
   "outputs": [],
   "source": [
    "harmful_df.rename(columns={'llm_answer': 'output', 'question': 'instruction'}, inplace=True)\n",
    "refusal_df.rename(columns={'llm_answer': 'output', 'question': 'instruction'}, inplace=True)\n",
    "harmful_test_df.rename(columns={'llm_answer': 'output', 'question': 'instruction'}, inplace=True)\n",
    "refusal_test_df.rename(columns={'llm_answer': 'output', 'question': 'instruction'}, inplace=True)"
   ]
  },
  {
   "cell_type": "code",
   "execution_count": null,
   "id": "a5a709f6",
   "metadata": {},
   "outputs": [],
   "source": [
    "# Save all datasets\n",
    "# Test datasets - sample 500 for test, rest goes to train\n",
    "refusal_test_samples = refusal_test_df.sample(n=500, random_state=42)\n",
    "remaining_refusal_test = refusal_test_df.drop(refusal_test_samples.index)\n",
    "refusal_all = pd.concat([refusal_df, remaining_refusal_test], ignore_index=True)\n",
    "\n",
    "# Sample 500 from refusal_all for training\n",
    "refusal_train_samples = refusal_all.sample(n=500, random_state=42)\n",
    "\n",
    "# Train datasets\n",
    "# harmful_df.to_json(\"processed_sorry_bench_harmful_train.json\", orient='records', indent=2)\n",
    "refusal_all.to_json(\"processed_sorry_bench_refusal_train.json\", orient='records', indent=2)\n",
    "refusal_train_samples.to_json(\"processed_sorry_bench_refusal_train_500.json\", orient='records', indent=2)\n",
    "\n",
    "# Test datasets\n",
    "refusal_test_samples.to_json(\"processed_sorry_bench_refusal_test.json\", orient='records', indent=2)"
   ]
  },
  {
   "cell_type": "code",
   "execution_count": null,
   "id": "1acd9585",
   "metadata": {},
   "outputs": [],
   "source": [
    "test_samples = harmful_test_df.sample(n=500, random_state=42)\n",
    "remaining_test = harmful_test_df.drop(test_samples.index)\n",
    "harmful_all = pd.concat([harmful_df, remaining_test], ignore_index=True)\n",
    "test_samples.to_json(\"processed_sorry_bench_harmful_test.json\", orient='records', indent=2)\n",
    "harmful_all.to_json(\"processed_sorry_bench_harmful_train.json\", orient='records', indent=2)"
   ]
  },
  {
   "cell_type": "code",
   "execution_count": null,
   "id": "4992bd4c",
   "metadata": {},
   "outputs": [],
   "source": [
    "print(\"All datasets saved successfully!\")\n",
    "print(\"\\nTRAIN:\")\n",
    "print(f\"  Harmful: {len(harmful_all)} rows\")\n",
    "print(f\"  Refusal (full): {len(refusal_all)} rows\")\n",
    "print(f\"  Refusal (sampled): {len(refusal_train_samples)} rows\")\n",
    "print(\"\\nTEST:\")\n",
    "print(f\"  Harmful: {len(test_samples)} rows\")\n",
    "print(f\"  Refusal: {len(refusal_test_samples)} rows\")"
   ]
  }
 ],
 "metadata": {
  "kernelspec": {
   "display_name": "ai",
   "language": "python",
   "name": "python3"
  },
  "language_info": {
   "codemirror_mode": {
    "name": "ipython",
    "version": 3
   },
   "file_extension": ".py",
   "mimetype": "text/x-python",
   "name": "python",
   "nbconvert_exporter": "python",
   "pygments_lexer": "ipython3",
   "version": "3.12.2"
  }
 },
 "nbformat": 4,
 "nbformat_minor": 5
}
